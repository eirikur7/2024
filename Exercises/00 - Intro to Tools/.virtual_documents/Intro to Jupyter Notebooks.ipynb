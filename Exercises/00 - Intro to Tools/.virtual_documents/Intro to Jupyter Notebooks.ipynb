





import numpy as np
import pandas as pd
import matplotlib.pyplot as plt
%matplotlib inline





t = np.linspace(0,1,200)
for i in range(1,20):
    plt.plot(t, np.sin(2*np.pi*t-t[10*i]))


np.pi*2





# Running this in a 'with' allows the style to be temporary
with plt.xkcd():
    for i in range(1,10):
        plt.plot(t, np.sin(2*np.pi*t-t[10*i]))





# t = np.lins





np.linspace?





np.linspace??





%lsmagic





# recursive implementation
def factorial_1(n):
    if n > 1:
        return n*factorial_1(n-1)
    else:
        return 1
    
# numpy implementation
def factorial_2(n):
    return np.prod(np.arange(1,n+1))


%timeit factorial_1(100)


%timeit factorial_2(100)








from IPython.display import Image
# Photos credit: https://commons.wikimedia.org/wiki/File:Rolex_Learning_center.jpg
Image('./Data/rlc.jpg', width=800,height=600)





from IPython.display import YouTubeVideo
from datetime import timedelta

# It is possible to start the video at a specific time
start=int(timedelta(hours=0, minutes=0, seconds=0).total_seconds())

YouTubeVideo("OJy2h9mgiX8", start=start, autoplay=0, theme="light", color="red")





from IPython.display import VimeoVideo

VimeoVideo("12891305")





from IPython.display import IFrame

IFrame('https://dlab.epfl.ch/teaching/fall2019/cs401/', width=800, height=600)





from scipy.io import loadmat, wavfile
from IPython.lib.display import Audio

# import the speech from a wav file
r,speech = wavfile.read('Data/german_speech_44100.wav')
_,rir = wavfile.read('Data/RIRs.wav')

# Add the audio widget
print('Speech')
display(Audio(data=speech, rate=r))
print('Room Impulse Response')
display(Audio(data=rir[:,0], rate=r))








from ipywidgets import interact

# We need to define a function that takes as arguments the parameters
# we would like to play with.
def plot_norm(mean=0,sd=5):
    plt.hist(np.random.normal(mean,sd,100000),bins=100)
    plt.xlim((-15,15))
    plt.title("Normal")

# Now we only need to call the interact function
# keyword arguments are used to give the parameter ranges
interact(plot_norm, mean=(-5,5,10), sd=(0,30,5))





from bokeh.plotting import figure, show, output_notebook
output_notebook()


N = 500

x = np.linspace(-10, 10, N)
y = np.linspace(-10, 10, N)
xx, yy = np.meshgrid(x, y)
# d = np.sin(xx)*np.cos(yy)
d = (xx**2 + yy**2)**0.7 - 4.*np.sin(2*xx) - 1.8*np.cos(2*yy)

p = figure(x_range=[-10, 10], y_range=[-10, 10])
p.image(image=[d], x=[-10], y=[-10], dw=[20], dh=[20], palette="Spectral11")

show(p)








import seaborn as sns

# set the default color palette
# try other options: 'Blues', sns.cubehelix_palette(8)
sns.set_palette('Blues')

# Seaborn can also use a context for different purpose
# possible values are paper, notebook, talk, and poster
sns.set_context("notebook")


# try to plot our boring old sine curves
for i in range(0,10):
    plt.plot(t, np.sin(2*np.pi*t-t[10*i]))
plt.tight_layout()





import json
import pandas as pd


tweets_data_path = './Data/twitter_data.txt'

tweets_data = []
with open(tweets_data_path, "r") as tweets_file:
    for line in tweets_file:
        try:
            tweet = json.loads(line)
            tweets_data.append(tweet)
        except:
            continue


tweets_data[0]['text']





tweets = pd.DataFrame()

fields = ['text','lang']
for f in fields:
    tweets[f] = list(map(lambda tweet: tweet[f], tweets_data))

tweets['country'] = list(map(lambda tweet: tweet['place']['country'] if tweet['place'] != None else None, tweets_data))
tweets['username'] = list(map(lambda tweet: tweet['user']['screen_name'], tweets_data))
tweets['followers_count'] = list(map(lambda tweet: tweet['user']['followers_count'], tweets_data))
tweets['time_zone'] = list(map(lambda tweet: tweet['user']['time_zone'], tweets_data))

tweets['text_len'] = list(map(lambda tweet: len(tweet), tweets['text']))

print('We got',len(tweets_data),'tweets.')


tweets.head()





# list comprehensions
my_list = [10*x+1 for x in range(10)]
print(my_list)
# map and anonymous functions
my_list = list(map(lambda x:x+1, my_list))
print(my_list)





import re


re.sub('s+','s*', '|'.join(['open science','epfl']))


# a helper function to apply the regexp
def word_in_text(words, text):
    words = re.sub('s+','s*', '|'.join(words))
    text = text.lower()
    match = re.search(words, text)
    if match:
        return True
    return False


print(word_in_text(['open science','epfl'],'open science at epfl is great'))
print(word_in_text(['open science','epfl'],'open science is great'))
print(word_in_text(['open science','epfl'],'science is great'))


# actually apply the regexp
keywords = ['open access', 'open science', 'ipython', 'open data', 'reproducible research','epfl']
for w in keywords:
    tweets[w] = tweets['text'].apply(lambda tweet: word_in_text([w], tweet))
    
tweets_by_kw = pd.Series([tweets[w].value_counts()[True] for w in keywords], index=keywords)


tweets_by_kw





def nice_bar_plot(xlbl, data, n):
    
    fig, ax = plt.subplots()
    ax.set_title('Our ' + str(n) + ' ' + xlbl, fontsize=15, fontweight='bold')
    sns.barplot(x=data[:n].keys(), y=data[:n], ax=ax)
    locs, labels = plt.xticks()
    plt.setp(labels, rotation=90)
    
nice_bar_plot('popular topics', tweets_by_kw, 6)





# Here we want to tag each tweet with a category
tweets['category'] = np.nan
for kw in keywords:
    tweets.loc[tweets[kw] == True,'category'] = kw


tweets['category'][:10]


sns.set(style="ticks", color_codes=True)

# Plot the text length with horizontal boxes
ax = sns.boxplot(x="text_len", y="category", data=tweets,
                 whis=np.inf)

# Add in points to show each tweet
sns.stripplot(x="text_len", y="category", data=tweets,
              jitter=True, size=3, color=".3", linewidth=0)

# This removes top and right axis
sns.despine(trim=False)








t = np.linspace(0,1,200)
for i in range(1,20):
    plt.plot(t, np.sin(2*np.pi*t-t[10*i]))





from ipywidgets import interact

# Start by fattening the function distribution here
def plot_norm(mean=0,sd=5):
    plt.hist(np.random.normal(mean,sd,100000),bins=100)
    plt.xlim((-15,15))
    plt.title("Normal")

# Add a new parameter to control the fatness of the distribution side
interact(plot_norm, mean=(-5,5,10), sd=(0,30,5))



